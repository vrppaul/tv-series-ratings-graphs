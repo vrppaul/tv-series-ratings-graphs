{
 "cells": [
  {
   "cell_type": "code",
   "execution_count": 1,
   "metadata": {},
   "outputs": [],
   "source": [
    "# Parsing data from web\n",
    "import requests\n",
    "r = requests.get('https://www.ratingraph.com/serie/rick_and_morty-3607/')"
   ]
  },
  {
   "cell_type": "code",
   "execution_count": 2,
   "metadata": {},
   "outputs": [],
   "source": [
    "# Looking for the <script> tag that, contains all the tables\n",
    "from bs4 import BeautifulSoup\n",
    "soup = BeautifulSoup(r.text, 'html.parser')\n",
    "results = soup.find('script', type='application/ld+json').text"
   ]
  },
  {
   "cell_type": "code",
   "execution_count": 3,
   "metadata": {},
   "outputs": [],
   "source": [
    "# Converting the data into json format\n",
    "import json\n",
    "data = json.loads(results)"
   ]
  },
  {
   "cell_type": "code",
   "execution_count": 4,
   "metadata": {
    "scrolled": true
   },
   "outputs": [],
   "source": [
    "# transforming json into pd.DataFrame\n",
    "import pandas as pd\n",
    "\n",
    "episodes_data = pd.DataFrame()\n",
    "episode_number = 1\n",
    "for i in range(len(data['containsSeason'])):\n",
    "    ratingsList = []\n",
    "    length = len(data['containsSeason'][i]['episode'])\n",
    "    for j in range(length):\n",
    "        ratingsList.append(data['containsSeason'][i]['episode'][j]['aggregateRating']['ratingValue'])\n",
    "        \n",
    "    episodes_data = episodes_data.append(pd.DataFrame({\n",
    "                                        'season_number': i + 1,\n",
    "                                        'episode_number': range(episode_number, length + episode_number),\n",
    "                                        'episode_rating': ratingsList\n",
    "                                    }).set_index('season_number'))\n",
    "    episode_number += length\n",
    "    \n",
    "episodes_data.episode_rating = pd.to_numeric(episodes_data.episode_rating)"
   ]
  },
  {
   "cell_type": "code",
   "execution_count": 7,
   "metadata": {},
   "outputs": [
    {
     "data": {
      "image/png": "[encoded data removed]",
      "text/plain": [
       "<Figure size 432x288 with 1 Axes>"
      ]
     },
     "metadata": {},
     "output_type": "display_data"
    }
   ],
   "source": [
    "# Training the model\n",
    "import numpy as np\n",
    "import matplotlib.pyplot as plt\n",
    "from sklearn.linear_model import LinearRegression\n",
    "\n",
    "dots_colors = ['royalblue', 'm', 'gold']\n",
    "markers = ['o', 'v', 's']\n",
    "\n",
    "for index in range(1, len(data['containsSeason']) + 1):\n",
    "    X = episodes_data.loc[index].iloc[:, :-1].values\n",
    "    y = episodes_data.loc[index].iloc[:, -1].values\n",
    "    \n",
    "    regressor = LinearRegression()\n",
    "    regressor.fit(X, y)\n",
    "    y_pred = regressor.predict(X)\n",
    "    \n",
    "    plt.scatter(X, y, color = dots_colors[index - 1], marker = markers[index - 1])\n",
    "    plt.plot(X, y_pred, color = 'blue')\n",
    "\n",
    "plt.title('Episodes ratings graph\\n')\n",
    "plt.xlabel('Episode number')\n",
    "plt.ylabel('Rating')\n",
    "plt.show()"
   ]
  }
 ],
 "metadata": {
  "kernelspec": {
   "display_name": "Python 3",
   "language": "python",
   "name": "python3"
  },
  "language_info": {
   "codemirror_mode": {
    "name": "ipython",
    "version": 3
   },
   "file_extension": ".py",
   "mimetype": "text/x-python",
   "name": "python",
   "nbconvert_exporter": "python",
   "pygments_lexer": "ipython3",
   "version": "3.6.5"
  }
 },
 "nbformat": 4,
 "nbformat_minor": 2
}
